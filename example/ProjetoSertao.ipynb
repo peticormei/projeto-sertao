{
  "nbformat": 4,
  "nbformat_minor": 0,
  "metadata": {
    "colab": {
      "name": "ProjetoSertao.ipynb",
      "provenance": [],
      "collapsed_sections": []
    },
    "kernelspec": {
      "name": "python3",
      "display_name": "Python 3"
    }
  },
  "cells": [
    {
      "cell_type": "code",
      "execution_count": 0,
      "metadata": {
        "colab": {},
        "colab_type": "code",
        "id": "HdZa1Ll3xK-R"
      },
      "outputs": [],
      "source": [
        "from pulp import *"
      ]
    },
    {
      "cell_type": "markdown",
      "metadata": {
        "colab_type": "text",
        "id": "f9hnj39VmuYE"
      },
      "source": [
        "# **Programação Linear em Python: Maximização de lucro utlizando somente  áreas degradadas da Caatinga**"
      ]
    },
    {
      "cell_type": "markdown",
      "metadata": {
        "colab_type": "text",
        "id": "4Eex0wMOnHje"
      },
      "source": [
        "\n",
        "\n",
        "> Este Notebook iPython é um exemplo de construção de um programa linear em Python com o módulo PULP.\n",
        "\n"
      ]
    },
    {
      "cell_type": "markdown",
      "metadata": {
        "colab_type": "text",
        "id": "MBXAntDzQHIq"
      },
      "source": [
        "\n",
        "---\n",
        "\n",
        "**Definição do problema:** Você é proprietário de alguns hectares na região da Caatinga e por leis ambientais está limitado utilizar somente regiões degradadas de sua propriedade. Qual é a melhor produção para ser utilizada em cada tipo de terreno e como maximizar o lucro?\n",
        "\n",
        "---\n"
      ]
    },
    {
      "cell_type": "markdown",
      "metadata": {
        "colab_type": "text",
        "id": "A2rawpyiqOTA"
      },
      "source": [
        "*   Objetivo: Maximização de lucro utlizando somente áreas degradadas\n",
        "*   Formula PL: Maximização\n",
        "*   Variaveis de Decisão: Variavel continua que define o tipo do terreno utilihzado para a produção e quantidade em hectare\n",
        "*   Restrições: Tamanho das áreas degradadas e produção minima de cada cultura"
      ]
    },
    {
      "cell_type": "markdown",
      "metadata": {
        "colab_type": "text",
        "id": "H_Wvg7dwqeyC"
      },
      "source": [
        "## Entendendo os dados:"
      ]
    },
    {
      "cell_type": "markdown",
      "metadata": {
        "colab_type": "text",
        "id": "YpuTg90MvIy7"
      },
      "source": [
        "\n",
        "\n",
        "> Nesse exemplo vamos utilizar dois tipos de atividade e dois tipos de região degradada:\n",
        "\n"
      ]
    },
    {
      "cell_type": "code",
      "execution_count": 0,
      "metadata": {
        "colab": {},
        "colab_type": "code",
        "id": "I0-BudinY6cX"
      },
      "outputs": [],
      "source": [
        "tipo_atividade = [\"umbu\", \"caju\"]\n",
        "tipo_regiao = [\"mata\", \"descampado\"]\n",
        "tipo_producao = [\"mata_umbu\", \"mata_caju\", \"descampado_umbu\", \"descampado_caju\"]"
      ]
    },
    {
      "cell_type": "markdown",
      "metadata": {
        "colab_type": "text",
        "id": "5U0zmkuOwkCv"
      },
      "source": [
        "\n",
        "\n",
        "> Primeiro vamos precisar do lucro total em cada regiao **X** relizando a atividade **Y**, para chegar nesse valor poder *subtrair do valor de venda do Kg da atividade pelo o custo de prepararo da região para tal atividade* \n",
        "\n"
      ]
    },
    {
      "cell_type": "code",
      "execution_count": 0,
      "metadata": {
        "colab": {},
        "colab_type": "code",
        "id": "AA1J9iaMiaRx"
      },
      "outputs": [],
      "source": [
        "custo_prep_regiao = {\n",
        "    \"mata\": 1.5,\n",
        "    \"descampado\": 0.4\n",
        "}\n",
        "\n",
        "valor_venda_atividade = {\n",
        "    \"umbu\": 5,\n",
        "    \"caju\": 3\n",
        "}\n",
        "\n",
        "qtd_lucro_regiao = {\n",
        "    \"mata_umbu\": valor_venda_atividade[\"umbu\"] - custo_prep_regiao[\"mata\"],\n",
        "    \"mata_caju\": valor_venda_atividade[\"caju\"] - custo_prep_regiao[\"mata\"],\n",
        "    \"descampado_umbu\": valor_venda_atividade[\"umbu\"] - custo_prep_regiao[\"descampado\"],\n",
        "    \"descampado_caju\": valor_venda_atividade[\"caju\"] - custo_prep_regiao[\"descampado\"]\n",
        "}"
      ]
    },
    {
      "cell_type": "markdown",
      "metadata": {
        "colab_type": "text",
        "id": "t27W9qj_xkCY"
      },
      "source": [
        "\n",
        "\n",
        "> Proximo passo é definir a quantidade de terra que o proprietario possui de cara região, o quanto ele consegue produzir de cada atividade em cada uma dessas regiões\n",
        "\n"
      ]
    },
    {
      "cell_type": "code",
      "execution_count": 0,
      "metadata": {
        "colab": {},
        "colab_type": "code",
        "id": "ouWAR9o-nRDd"
      },
      "outputs": [],
      "source": [
        "qtd_hectare_regiao = {\n",
        "    \"mata\": 5,\n",
        "    \"descampado\": 3,\n",
        "}\n",
        "\n",
        "qtd_prod_regiao = {\n",
        "    \"mata_umbu\": 420,\n",
        "    \"mata_caju\": 500,\n",
        "    \"descampado_umbu\": 350,\n",
        "    \"descampado_caju\": 470\n",
        "}"
      ]
    },
    {
      "cell_type": "markdown",
      "metadata": {
        "colab_type": "text",
        "id": "TjDZtcplx6O7"
      },
      "source": [
        "\n",
        "\n",
        "> Por ultimo vamos definir restrições contratuais das atividade: esses dados são utilizados para garantir que o proprietario produza a quantidade minima de cada atividade. \n",
        "\n"
      ]
    },
    {
      "cell_type": "code",
      "execution_count": 0,
      "metadata": {
        "colab": {},
        "colab_type": "code",
        "id": "ZGig16spx_PH"
      },
      "outputs": [],
      "source": [
        "qtd_contrato_atividade = {\n",
        "    \"umbu\": 1430,\n",
        "    \"caju\": 1500\n",
        "}"
      ]
    },
    {
      "cell_type": "markdown",
      "metadata": {
        "colab_type": "text",
        "id": "zwkdf5qszM32"
      },
      "source": [
        "## Definição do Probblema"
      ]
    },
    {
      "cell_type": "markdown",
      "metadata": {
        "colab_type": "text",
        "id": "3D5NlKsxvAVG"
      },
      "source": [
        "\n",
        "\n",
        "> Vamos começar definindo um problema de maximização utilizando o PULP\n",
        "\n"
      ]
    },
    {
      "cell_type": "code",
      "execution_count": 0,
      "metadata": {
        "colab": {},
        "colab_type": "code",
        "id": "7AVXDK-SYziD"
      },
      "outputs": [],
      "source": [
        "problem = LpProblem('ProjetoSertao', LpMaximize)"
      ]
    },
    {
      "cell_type": "markdown",
      "metadata": {
        "colab_type": "text",
        "id": "gwJ32djdy7XT"
      },
      "source": [
        "\n",
        "\n",
        "> Definindo as variaveis de decisão do problema, onde vamos ter o quanto de cada região vamos utilizar para um tipo de atividade\n",
        "\n"
      ]
    },
    {
      "cell_type": "code",
      "execution_count": 0,
      "metadata": {
        "colab": {},
        "colab_type": "code",
        "id": "qAPOyz6PZ_Of"
      },
      "outputs": [],
      "source": [
        "atividades_vars = LpVariable.dicts(\"atividades\", tipo_producao, lowBound=0)"
      ]
    },
    {
      "cell_type": "markdown",
      "metadata": {
        "colab_type": "text",
        "id": "JuBkdi5dz0Bg"
      },
      "source": [
        "\n",
        "\n",
        "\n",
        "---\n",
        "\n",
        "> Definindo a função objetivo do problema, onde buscamos maximinizar o lucro do proprietario da região. Utilizando a equação:\n",
        "\n",
        "\\begin{equation*}\n",
        "\\sum_{i=1}^k A_k L_k P_k\n",
        "\\end{equation*}\n",
        "\n",
        "*Onde:*\n",
        "\n",
        "*A* é a quantidade de hectares necessaria para a atividade *k* por região;\n",
        "\n",
        "*L* é o lucro da atividade *k* por unidade produzida por região;\n",
        "\n",
        "*P* é a producao de cada região por atividade *k*;\n",
        "\n",
        "\n",
        "\n",
        "---\n",
        "\n",
        "\n"
      ]
    },
    {
      "cell_type": "code",
      "execution_count": 0,
      "metadata": {
        "colab": {},
        "colab_type": "code",
        "id": "jm8CfWmJaH4N"
      },
      "outputs": [],
      "source": [
        "problem += lpSum([atividades_vars[tp] * qtd_lucro_regiao[tp] * qtd_prod_regiao[tp] for tp in tipo_producao]), \"Funcao objetivo\""
      ]
    },
    {
      "cell_type": "markdown",
      "metadata": {
        "colab_type": "text",
        "id": "K2G_t3Cg2hCO"
      },
      "source": [
        "\n",
        "\n",
        "---\n",
        "\n",
        "\n",
        "\n",
        "> Definido a função objetivo podemos partir para as funções de restrições do tamanho das regiões, sendo:\n",
        "\n",
        "\\begin{equation*}\n",
        "\\sum_{i=1}^h A_h \\leq H\n",
        "\\end{equation*}\n",
        "\n",
        "*Onde:*\n",
        "\n",
        "*A* é a atividade que vai ser realizada em uma região *h*;\n",
        "\n",
        "*H* é a quantidade total de hectare da região *h*\n",
        "\n",
        "\n",
        "\n",
        "---\n",
        "\n",
        "\n"
      ]
    },
    {
      "cell_type": "code",
      "execution_count": 0,
      "metadata": {
        "colab": {},
        "colab_type": "code",
        "id": "MwNfc_gunPHZ"
      },
      "outputs": [],
      "source": [
        "problem += lpSum([atividades_vars[tp] for tp in tipo_producao if \"mata\" in tp]) <= qtd_hectare_regiao[\"mata\"]\n",
        "problem += lpSum([atividades_vars[tp] for tp in tipo_producao if \"descampado\" in tp]) <= qtd_hectare_regiao[\"descampado\"]"
      ]
    },
    {
      "cell_type": "markdown",
      "metadata": {
        "colab_type": "text",
        "id": "sJrCl5_y3Nuq"
      },
      "source": [
        "\n",
        "\n",
        "---\n",
        "\n",
        "\n",
        "\n",
        "> E as funções de restrição contratuais, sendo:\n",
        "\n",
        "\n",
        "\\begin{equation*}\n",
        "\\sum_{i=1}^c P_c A_c \\geq C\n",
        "\\end{equation*}\n",
        "\n",
        "*Onde:*\n",
        "\n",
        "*P* é a produção da atividade *c* nas regiões da propriedade;\n",
        "\n",
        "*A* é a atividade *c* que vai ser realizada em uma das regiões da propriedade;\n",
        "\n",
        "*C* é a quantidade minima a ser atingida de produção de uma atividade *c*;\n",
        "\n",
        "\n",
        "\n",
        "---\n",
        "\n"
      ]
    },
    {
      "cell_type": "code",
      "execution_count": 0,
      "metadata": {
        "colab": {},
        "colab_type": "code",
        "id": "EFxG5LQ03Po9"
      },
      "outputs": [],
      "source": [
        "problem += lpSum([qtd_prod_regiao[tp] * atividades_vars[tp] for tp in tipo_producao if \"umbu\" in tp]) >= qtd_contrato_atividade[\"umbu\"]\n",
        "problem += lpSum([qtd_prod_regiao[tp] * atividades_vars[tp] for tp in tipo_producao if \"caju\" in tp]) >= qtd_contrato_atividade[\"caju\"]"
      ]
    },
    {
      "cell_type": "markdown",
      "metadata": {
        "colab_type": "text",
        "id": "3NBhD3gStCyf"
      },
      "source": [
        "\n",
        "\n",
        "> Finalmente, a definição do modelo ficou assim:\n",
        "\n"
      ]
    },
    {
      "cell_type": "code",
      "execution_count": 12,
      "metadata": {
        "colab": {
          "base_uri": "https://localhost:8080/",
          "height": 306
        },
        "colab_type": "code",
        "id": "_X956yklbBE7",
        "outputId": "3eb0aee5-296f-4d8d-adb6-810a633c253c"
      },
      "outputs": [
        {
          "data": {
            "text/plain": [
              "ProjetoSertao:\n",
              "MAXIMIZE\n",
              "1222.0*atividades_descampado_caju + 1609.9999999999998*atividades_descampado_umbu + 750.0*atividades_mata_caju + 1470.0*atividades_mata_umbu + 0.0\n",
              "SUBJECT TO\n",
              "_C1: atividades_mata_caju + atividades_mata_umbu <= 5\n",
              "\n",
              "_C2: atividades_descampado_caju + atividades_descampado_umbu <= 3\n",
              "\n",
              "_C3: 350 atividades_descampado_umbu + 420 atividades_mata_umbu >= 1430\n",
              "\n",
              "_C4: 470 atividades_descampado_caju + 500 atividades_mata_caju >= 1500\n",
              "\n",
              "VARIABLES\n",
              "atividades_descampado_caju Continuous\n",
              "atividades_descampado_umbu Continuous\n",
              "atividades_mata_caju Continuous\n",
              "atividades_mata_umbu Continuous"
            ]
          },
          "execution_count": 12,
          "metadata": {
            "tags": []
          },
          "output_type": "execute_result"
        }
      ],
      "source": [
        "problem"
      ]
    },
    {
      "cell_type": "markdown",
      "metadata": {
        "colab_type": "text",
        "id": "VFtsyqMbtXNS"
      },
      "source": [
        "## Resultados:"
      ]
    },
    {
      "cell_type": "markdown",
      "metadata": {
        "colab_type": "text",
        "id": "ZTkk2X_PtoCe"
      },
      "source": [
        "\n",
        "\n",
        "> Após toda a definição do problema, com suas restrições e variavies de decisão. Podemos chamar a função abaixo para ver a solução gerada pelo solver:\n",
        "\n",
        "\n"
      ]
    },
    {
      "cell_type": "code",
      "execution_count": 13,
      "metadata": {
        "colab": {
          "base_uri": "https://localhost:8080/",
          "height": 34
        },
        "colab_type": "code",
        "id": "QPk2r6O-oal4",
        "outputId": "56fa61cc-3f81-4526-b444-a8d82771dcfc"
      },
      "outputs": [
        {
          "data": {
            "text/plain": [
              "1"
            ]
          },
          "execution_count": 13,
          "metadata": {
            "tags": []
          },
          "output_type": "execute_result"
        }
      ],
      "source": [
        "problem.solve()"
      ]
    },
    {
      "cell_type": "markdown",
      "metadata": {
        "colab_type": "text",
        "id": "X1w0JNOOrzqC"
      },
      "source": [
        "\n",
        "\n",
        "> O solver aprensenta algumas definições do resultado apresentado pela otimização, podendo ser:\n",
        "\n",
        "1.   Ótima\n",
        "2.   Não resolvido\n",
        "3.   Inviável\n",
        "4.   Não vinculado\n",
        "5.   Indefinido\n",
        "\n",
        "> Nesse exemplo, ele encontrou a seguinte solução:"
      ]
    },
    {
      "cell_type": "code",
      "execution_count": 14,
      "metadata": {
        "colab": {
          "base_uri": "https://localhost:8080/",
          "height": 34
        },
        "colab_type": "code",
        "id": "Yrm_IbkI1uWY",
        "outputId": "90d8517d-b83e-4542-936a-94560cb2149b"
      },
      "outputs": [
        {
          "name": "stdout",
          "output_type": "stream",
          "text": [
            "Solução: Optimal\n"
          ]
        }
      ],
      "source": [
        "print(\"Solução:\", LpStatus[problem.status])"
      ]
    },
    {
      "cell_type": "markdown",
      "metadata": {
        "colab_type": "text",
        "id": "ruWiudlPrT7J"
      },
      "source": [
        "\n",
        "\n",
        "> O modelo apresentou a seguinte distribuição de atividade por tipo do terreno, os valores apresentados em cada variavel abaixo é a quantidade de hectares que deve ser utilizado por cada produção.\n",
        "\n"
      ]
    },
    {
      "cell_type": "code",
      "execution_count": 15,
      "metadata": {
        "colab": {
          "base_uri": "https://localhost:8080/",
          "height": 85
        },
        "colab_type": "code",
        "id": "E2LAd_kA1gCM",
        "outputId": "af6c04cf-0f22-4ca0-c510-2ecedf201069"
      },
      "outputs": [
        {
          "name": "stdout",
          "output_type": "stream",
          "text": [
            "atividades_descampado_caju: 3.0ha\n",
            "atividades_descampado_umbu: 0.0ha\n",
            "atividades_mata_caju: 0.18ha\n",
            "atividades_mata_umbu: 4.82ha\n"
          ]
        }
      ],
      "source": [
        "for v in problem.variables():\n",
        "    print(f'{v.name}:', f'{v.varValue}ha')"
      ]
    },
    {
      "cell_type": "markdown",
      "metadata": {
        "colab_type": "text",
        "id": "jc6p9kwRrHT_"
      },
      "source": [
        "\n",
        "\n",
        "> Resultado final da equação de otimização:\n",
        "\n"
      ]
    },
    {
      "cell_type": "code",
      "execution_count": 16,
      "metadata": {
        "colab": {
          "base_uri": "https://localhost:8080/",
          "height": 34
        },
        "colab_type": "code",
        "id": "VrTBSfbR1zxD",
        "outputId": "785c0960-d834-4ade-c32e-fd35e9d856b7"
      },
      "outputs": [
        {
          "name": "stdout",
          "output_type": "stream",
          "text": [
            "R$ 10886.40\n"
          ]
        }
      ],
      "source": [
        "print('R$ {:.2f}'.format(value(problem.objective)))"
      ]
    }
  ]
}